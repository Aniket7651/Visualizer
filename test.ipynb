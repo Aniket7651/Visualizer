{
 "cells": [
  {
   "cell_type": "code",
   "execution_count": null,
   "id": "d53083ee",
   "metadata": {},
   "outputs": [],
   "source": [
    "import plotly.express as px # type: ignore\n",
    "import plotly.graph_objs as go \n",
    "import pandas as pd\n",
    "from plotly.offline import init_notebook_mode, iplot\n",
    "\n",
    "colname = 'Specialized Centers'\n",
    "title = f\"{colname} across the world\"\n",
    "\n",
    "df = pd.read_csv('sampleInfra.csv')\n",
    "(country, spcCenter) = (list(df['Country']), list(df[colname].apply(lambda x: float(x))))"
   ]
  },
  {
   "cell_type": "code",
   "execution_count": null,
   "id": "55a532e5",
   "metadata": {},
   "outputs": [
    {
     "data": {
      "application/vnd.microsoft.datawrangler.viewer.v0+json": {
       "columns": [
        {
         "name": "index",
         "rawType": "int64",
         "type": "integer"
        },
        {
         "name": "Country",
         "rawType": "object",
         "type": "string"
        },
        {
         "name": "Specialized Centers",
         "rawType": "int64",
         "type": "integer"
        },
        {
         "name": "Genetic & Molecular Testing Infrastructure (1-5)",
         "rawType": "int64",
         "type": "integer"
        },
        {
         "name": "Overall Average",
         "rawType": "float64",
         "type": "float"
        },
        {
         "name": "discript",
         "rawType": "object",
         "type": "string"
        }
       ],
       "conversionMethod": "pd.DataFrame",
       "ref": "2b62a58f-2362-4f4c-9e5f-cf4a6e56ecdf",
       "rows": [
        [
         "0",
         "South Africa",
         "3",
         "5",
         "4.0",
         "Moderate infrastructure, primarily in private settings or research institutions."
        ],
        [
         "1",
         "Kenya",
         "2",
         "2",
         "2.0",
         "Limited infrastructure, available only in select centers or for high-cost private testing."
        ],
        [
         "2",
         "Nigeria",
         "2",
         "2",
         "2.0",
         "Limited infrastructure, available only in select centers or for high-cost private testing."
        ],
        [
         "3",
         "Egypt",
         "3",
         "4",
         "3.5",
         "Moderate infrastructure, primarily in private settings or research institutions."
        ],
        [
         "4",
         "Morocco",
         "2",
         "5",
         "3.5",
         "Limited infrastructure, available only in select centers or for high-cost private testing."
        ],
        [
         "5",
         "Algeria",
         "2",
         "5",
         "3.5",
         "Limited infrastructure, available only in select centers or for high-cost private testing."
        ],
        [
         "6",
         "Ethiopia",
         "1",
         "2",
         "1.5",
         "Minimal or no infrastructure, testing mostly unavailable or sent abroad."
        ],
        [
         "7",
         "India",
         "3",
         "5",
         "4.0",
         "Moderate infrastructure, primarily in private settings or research institutions."
        ],
        [
         "8",
         "Japan",
         "4",
         "4",
         "4.0",
         "Strong infrastructure in major hospitals and cancer centers, some regional disparities."
        ],
        [
         "9",
         "South Korea",
         "4",
         "4",
         "4.0",
         "Strong infrastructure in major hospitals and cancer centers, some regional disparities."
        ],
        [
         "10",
         "China",
         "3",
         "3",
         "3.0",
         "Moderate infrastructure, primarily in private settings or research institutions."
        ],
        [
         "11",
         "Thailand",
         "3",
         "5",
         "4.0",
         "Moderate infrastructure, primarily in private settings or research institutions."
        ],
        [
         "12",
         "Singapore",
         "4",
         "5",
         "4.5",
         "Strong infrastructure in major hospitals and cancer centers, some regional disparities."
        ],
        [
         "13",
         "United Kingdom",
         "4",
         "4",
         "4.0",
         "Strong infrastructure in major hospitals and cancer centers, some regional disparities."
        ],
        [
         "14",
         "Germany",
         "5",
         "4",
         "4.5",
         "Advanced nationwide infrastructure, widespread availability in public and private sectors, integration with clinical practice."
        ],
        [
         "15",
         "France",
         "4",
         "4",
         "4.0",
         "Strong infrastructure in major hospitals and cancer centers, some regional disparities."
        ],
        [
         "16",
         "Netherlands",
         "4",
         "4",
         "4.0",
         "Strong infrastructure in major hospitals and cancer centers, some regional disparities."
        ],
        [
         "17",
         "Sweden",
         "5",
         "3",
         "4.0",
         "Advanced nationwide infrastructure, widespread availability in public and private sectors, integration with clinical practice."
        ],
        [
         "18",
         "Italy",
         "4",
         "1",
         "2.5",
         "Strong infrastructure in major hospitals and cancer centers, some regional disparities."
        ],
        [
         "19",
         "Spain",
         "4",
         "3",
         "3.5",
         "Strong infrastructure in major hospitals and cancer centers, some regional disparities."
        ],
        [
         "20",
         "Poland",
         "3",
         "3",
         "3.0",
         "Moderate infrastructure, primarily in private settings or research institutions."
        ],
        [
         "21",
         "Mexico",
         "2",
         "2",
         "2.0",
         "Limited infrastructure, available only in select centers or for high-cost private testing."
        ],
        [
         "22",
         "Brazil",
         "3",
         "2",
         "2.5",
         "Moderate infrastructure, primarily in private settings or research institutions."
        ],
        [
         "23",
         "Argentina",
         "3",
         "1",
         "2.0",
         "Moderate infrastructure, primarily in private settings or research institutions."
        ],
        [
         "24",
         "Chile",
         "3",
         "3",
         "3.0",
         "Moderate infrastructure, primarily in private settings or research institutions."
        ],
        [
         "25",
         "Colombia",
         "2",
         "4",
         "3.0",
         "Limited infrastructure, available only in select centers or for high-cost private testing."
        ],
        [
         "26",
         "United States",
         "5",
         "4",
         "4.5",
         "Advanced nationwide infrastructure, widespread availability in public and private sectors, integration with clinical practice."
        ],
        [
         "27",
         "Canada",
         "4",
         "4",
         "4.0",
         "Strong infrastructure in major hospitals and cancer centers, some regional disparities."
        ],
        [
         "28",
         "Australia",
         "4",
         "4",
         "4.0",
         "Strong infrastructure in major hospitals and cancer centers, some regional disparities."
        ],
        [
         "29",
         "New Zealand",
         "4",
         "4",
         "4.0",
         "Strong infrastructure in major hospitals and cancer centers, some regional disparities."
        ],
        [
         "30",
         "Greece",
         "3",
         "3",
         "3.0",
         "Moderate infrastructure, primarily in private settings or research institutions."
        ],
        [
         "31",
         "Rwanda",
         "1",
         "1",
         "1.0",
         "Minimal or no infrastructure, testing mostly unavailable or sent abroad."
        ],
        [
         "32",
         "Uganda",
         "1",
         "1",
         "1.0",
         "Minimal or no infrastructure, testing mostly unavailable or sent abroad."
        ],
        [
         "33",
         "Serbia",
         "3",
         "3",
         "3.0",
         "Moderate infrastructure, primarily in private settings or research institutions."
        ]
       ],
       "shape": {
        "columns": 5,
        "rows": 34
       }
      },
      "text/html": [
       "<div>\n",
       "<style scoped>\n",
       "    .dataframe tbody tr th:only-of-type {\n",
       "        vertical-align: middle;\n",
       "    }\n",
       "\n",
       "    .dataframe tbody tr th {\n",
       "        vertical-align: top;\n",
       "    }\n",
       "\n",
       "    .dataframe thead th {\n",
       "        text-align: right;\n",
       "    }\n",
       "</style>\n",
       "<table border=\"1\" class=\"dataframe\">\n",
       "  <thead>\n",
       "    <tr style=\"text-align: right;\">\n",
       "      <th></th>\n",
       "      <th>Country</th>\n",
       "      <th>Specialized Centers</th>\n",
       "      <th>Genetic &amp; Molecular Testing Infrastructure (1-5)</th>\n",
       "      <th>Overall Average</th>\n",
       "      <th>discript</th>\n",
       "    </tr>\n",
       "  </thead>\n",
       "  <tbody>\n",
       "    <tr>\n",
       "      <th>0</th>\n",
       "      <td>South Africa</td>\n",
       "      <td>3</td>\n",
       "      <td>5</td>\n",
       "      <td>4.0</td>\n",
       "      <td>Moderate infrastructure, primarily in private ...</td>\n",
       "    </tr>\n",
       "    <tr>\n",
       "      <th>1</th>\n",
       "      <td>Kenya</td>\n",
       "      <td>2</td>\n",
       "      <td>2</td>\n",
       "      <td>2.0</td>\n",
       "      <td>Limited infrastructure, available only in sele...</td>\n",
       "    </tr>\n",
       "    <tr>\n",
       "      <th>2</th>\n",
       "      <td>Nigeria</td>\n",
       "      <td>2</td>\n",
       "      <td>2</td>\n",
       "      <td>2.0</td>\n",
       "      <td>Limited infrastructure, available only in sele...</td>\n",
       "    </tr>\n",
       "    <tr>\n",
       "      <th>3</th>\n",
       "      <td>Egypt</td>\n",
       "      <td>3</td>\n",
       "      <td>4</td>\n",
       "      <td>3.5</td>\n",
       "      <td>Moderate infrastructure, primarily in private ...</td>\n",
       "    </tr>\n",
       "    <tr>\n",
       "      <th>4</th>\n",
       "      <td>Morocco</td>\n",
       "      <td>2</td>\n",
       "      <td>5</td>\n",
       "      <td>3.5</td>\n",
       "      <td>Limited infrastructure, available only in sele...</td>\n",
       "    </tr>\n",
       "    <tr>\n",
       "      <th>5</th>\n",
       "      <td>Algeria</td>\n",
       "      <td>2</td>\n",
       "      <td>5</td>\n",
       "      <td>3.5</td>\n",
       "      <td>Limited infrastructure, available only in sele...</td>\n",
       "    </tr>\n",
       "    <tr>\n",
       "      <th>6</th>\n",
       "      <td>Ethiopia</td>\n",
       "      <td>1</td>\n",
       "      <td>2</td>\n",
       "      <td>1.5</td>\n",
       "      <td>Minimal or no infrastructure, testing mostly u...</td>\n",
       "    </tr>\n",
       "    <tr>\n",
       "      <th>7</th>\n",
       "      <td>India</td>\n",
       "      <td>3</td>\n",
       "      <td>5</td>\n",
       "      <td>4.0</td>\n",
       "      <td>Moderate infrastructure, primarily in private ...</td>\n",
       "    </tr>\n",
       "    <tr>\n",
       "      <th>8</th>\n",
       "      <td>Japan</td>\n",
       "      <td>4</td>\n",
       "      <td>4</td>\n",
       "      <td>4.0</td>\n",
       "      <td>Strong infrastructure in major hospitals and c...</td>\n",
       "    </tr>\n",
       "    <tr>\n",
       "      <th>9</th>\n",
       "      <td>South Korea</td>\n",
       "      <td>4</td>\n",
       "      <td>4</td>\n",
       "      <td>4.0</td>\n",
       "      <td>Strong infrastructure in major hospitals and c...</td>\n",
       "    </tr>\n",
       "    <tr>\n",
       "      <th>10</th>\n",
       "      <td>China</td>\n",
       "      <td>3</td>\n",
       "      <td>3</td>\n",
       "      <td>3.0</td>\n",
       "      <td>Moderate infrastructure, primarily in private ...</td>\n",
       "    </tr>\n",
       "    <tr>\n",
       "      <th>11</th>\n",
       "      <td>Thailand</td>\n",
       "      <td>3</td>\n",
       "      <td>5</td>\n",
       "      <td>4.0</td>\n",
       "      <td>Moderate infrastructure, primarily in private ...</td>\n",
       "    </tr>\n",
       "    <tr>\n",
       "      <th>12</th>\n",
       "      <td>Singapore</td>\n",
       "      <td>4</td>\n",
       "      <td>5</td>\n",
       "      <td>4.5</td>\n",
       "      <td>Strong infrastructure in major hospitals and c...</td>\n",
       "    </tr>\n",
       "    <tr>\n",
       "      <th>13</th>\n",
       "      <td>United Kingdom</td>\n",
       "      <td>4</td>\n",
       "      <td>4</td>\n",
       "      <td>4.0</td>\n",
       "      <td>Strong infrastructure in major hospitals and c...</td>\n",
       "    </tr>\n",
       "    <tr>\n",
       "      <th>14</th>\n",
       "      <td>Germany</td>\n",
       "      <td>5</td>\n",
       "      <td>4</td>\n",
       "      <td>4.5</td>\n",
       "      <td>Advanced nationwide infrastructure, widespread...</td>\n",
       "    </tr>\n",
       "    <tr>\n",
       "      <th>15</th>\n",
       "      <td>France</td>\n",
       "      <td>4</td>\n",
       "      <td>4</td>\n",
       "      <td>4.0</td>\n",
       "      <td>Strong infrastructure in major hospitals and c...</td>\n",
       "    </tr>\n",
       "    <tr>\n",
       "      <th>16</th>\n",
       "      <td>Netherlands</td>\n",
       "      <td>4</td>\n",
       "      <td>4</td>\n",
       "      <td>4.0</td>\n",
       "      <td>Strong infrastructure in major hospitals and c...</td>\n",
       "    </tr>\n",
       "    <tr>\n",
       "      <th>17</th>\n",
       "      <td>Sweden</td>\n",
       "      <td>5</td>\n",
       "      <td>3</td>\n",
       "      <td>4.0</td>\n",
       "      <td>Advanced nationwide infrastructure, widespread...</td>\n",
       "    </tr>\n",
       "    <tr>\n",
       "      <th>18</th>\n",
       "      <td>Italy</td>\n",
       "      <td>4</td>\n",
       "      <td>1</td>\n",
       "      <td>2.5</td>\n",
       "      <td>Strong infrastructure in major hospitals and c...</td>\n",
       "    </tr>\n",
       "    <tr>\n",
       "      <th>19</th>\n",
       "      <td>Spain</td>\n",
       "      <td>4</td>\n",
       "      <td>3</td>\n",
       "      <td>3.5</td>\n",
       "      <td>Strong infrastructure in major hospitals and c...</td>\n",
       "    </tr>\n",
       "    <tr>\n",
       "      <th>20</th>\n",
       "      <td>Poland</td>\n",
       "      <td>3</td>\n",
       "      <td>3</td>\n",
       "      <td>3.0</td>\n",
       "      <td>Moderate infrastructure, primarily in private ...</td>\n",
       "    </tr>\n",
       "    <tr>\n",
       "      <th>21</th>\n",
       "      <td>Mexico</td>\n",
       "      <td>2</td>\n",
       "      <td>2</td>\n",
       "      <td>2.0</td>\n",
       "      <td>Limited infrastructure, available only in sele...</td>\n",
       "    </tr>\n",
       "    <tr>\n",
       "      <th>22</th>\n",
       "      <td>Brazil</td>\n",
       "      <td>3</td>\n",
       "      <td>2</td>\n",
       "      <td>2.5</td>\n",
       "      <td>Moderate infrastructure, primarily in private ...</td>\n",
       "    </tr>\n",
       "    <tr>\n",
       "      <th>23</th>\n",
       "      <td>Argentina</td>\n",
       "      <td>3</td>\n",
       "      <td>1</td>\n",
       "      <td>2.0</td>\n",
       "      <td>Moderate infrastructure, primarily in private ...</td>\n",
       "    </tr>\n",
       "    <tr>\n",
       "      <th>24</th>\n",
       "      <td>Chile</td>\n",
       "      <td>3</td>\n",
       "      <td>3</td>\n",
       "      <td>3.0</td>\n",
       "      <td>Moderate infrastructure, primarily in private ...</td>\n",
       "    </tr>\n",
       "    <tr>\n",
       "      <th>25</th>\n",
       "      <td>Colombia</td>\n",
       "      <td>2</td>\n",
       "      <td>4</td>\n",
       "      <td>3.0</td>\n",
       "      <td>Limited infrastructure, available only in sele...</td>\n",
       "    </tr>\n",
       "    <tr>\n",
       "      <th>26</th>\n",
       "      <td>United States</td>\n",
       "      <td>5</td>\n",
       "      <td>4</td>\n",
       "      <td>4.5</td>\n",
       "      <td>Advanced nationwide infrastructure, widespread...</td>\n",
       "    </tr>\n",
       "    <tr>\n",
       "      <th>27</th>\n",
       "      <td>Canada</td>\n",
       "      <td>4</td>\n",
       "      <td>4</td>\n",
       "      <td>4.0</td>\n",
       "      <td>Strong infrastructure in major hospitals and c...</td>\n",
       "    </tr>\n",
       "    <tr>\n",
       "      <th>28</th>\n",
       "      <td>Australia</td>\n",
       "      <td>4</td>\n",
       "      <td>4</td>\n",
       "      <td>4.0</td>\n",
       "      <td>Strong infrastructure in major hospitals and c...</td>\n",
       "    </tr>\n",
       "    <tr>\n",
       "      <th>29</th>\n",
       "      <td>New Zealand</td>\n",
       "      <td>4</td>\n",
       "      <td>4</td>\n",
       "      <td>4.0</td>\n",
       "      <td>Strong infrastructure in major hospitals and c...</td>\n",
       "    </tr>\n",
       "    <tr>\n",
       "      <th>30</th>\n",
       "      <td>Greece</td>\n",
       "      <td>3</td>\n",
       "      <td>3</td>\n",
       "      <td>3.0</td>\n",
       "      <td>Moderate infrastructure, primarily in private ...</td>\n",
       "    </tr>\n",
       "    <tr>\n",
       "      <th>31</th>\n",
       "      <td>Rwanda</td>\n",
       "      <td>1</td>\n",
       "      <td>1</td>\n",
       "      <td>1.0</td>\n",
       "      <td>Minimal or no infrastructure, testing mostly u...</td>\n",
       "    </tr>\n",
       "    <tr>\n",
       "      <th>32</th>\n",
       "      <td>Uganda</td>\n",
       "      <td>1</td>\n",
       "      <td>1</td>\n",
       "      <td>1.0</td>\n",
       "      <td>Minimal or no infrastructure, testing mostly u...</td>\n",
       "    </tr>\n",
       "    <tr>\n",
       "      <th>33</th>\n",
       "      <td>Serbia</td>\n",
       "      <td>3</td>\n",
       "      <td>3</td>\n",
       "      <td>3.0</td>\n",
       "      <td>Moderate infrastructure, primarily in private ...</td>\n",
       "    </tr>\n",
       "  </tbody>\n",
       "</table>\n",
       "</div>"
      ],
      "text/plain": [
       "           Country  Specialized Centers  \\\n",
       "0     South Africa                    3   \n",
       "1            Kenya                    2   \n",
       "2          Nigeria                    2   \n",
       "3            Egypt                    3   \n",
       "4          Morocco                    2   \n",
       "5          Algeria                    2   \n",
       "6         Ethiopia                    1   \n",
       "7            India                    3   \n",
       "8            Japan                    4   \n",
       "9      South Korea                    4   \n",
       "10           China                    3   \n",
       "11        Thailand                    3   \n",
       "12       Singapore                    4   \n",
       "13  United Kingdom                    4   \n",
       "14         Germany                    5   \n",
       "15          France                    4   \n",
       "16     Netherlands                    4   \n",
       "17          Sweden                    5   \n",
       "18           Italy                    4   \n",
       "19           Spain                    4   \n",
       "20          Poland                    3   \n",
       "21          Mexico                    2   \n",
       "22          Brazil                    3   \n",
       "23       Argentina                    3   \n",
       "24           Chile                    3   \n",
       "25        Colombia                    2   \n",
       "26   United States                    5   \n",
       "27          Canada                    4   \n",
       "28       Australia                    4   \n",
       "29     New Zealand                    4   \n",
       "30          Greece                    3   \n",
       "31          Rwanda                    1   \n",
       "32          Uganda                    1   \n",
       "33          Serbia                    3   \n",
       "\n",
       "    Genetic & Molecular Testing Infrastructure (1-5)  Overall Average  \\\n",
       "0                                                  5              4.0   \n",
       "1                                                  2              2.0   \n",
       "2                                                  2              2.0   \n",
       "3                                                  4              3.5   \n",
       "4                                                  5              3.5   \n",
       "5                                                  5              3.5   \n",
       "6                                                  2              1.5   \n",
       "7                                                  5              4.0   \n",
       "8                                                  4              4.0   \n",
       "9                                                  4              4.0   \n",
       "10                                                 3              3.0   \n",
       "11                                                 5              4.0   \n",
       "12                                                 5              4.5   \n",
       "13                                                 4              4.0   \n",
       "14                                                 4              4.5   \n",
       "15                                                 4              4.0   \n",
       "16                                                 4              4.0   \n",
       "17                                                 3              4.0   \n",
       "18                                                 1              2.5   \n",
       "19                                                 3              3.5   \n",
       "20                                                 3              3.0   \n",
       "21                                                 2              2.0   \n",
       "22                                                 2              2.5   \n",
       "23                                                 1              2.0   \n",
       "24                                                 3              3.0   \n",
       "25                                                 4              3.0   \n",
       "26                                                 4              4.5   \n",
       "27                                                 4              4.0   \n",
       "28                                                 4              4.0   \n",
       "29                                                 4              4.0   \n",
       "30                                                 3              3.0   \n",
       "31                                                 1              1.0   \n",
       "32                                                 1              1.0   \n",
       "33                                                 3              3.0   \n",
       "\n",
       "                                             discript  \n",
       "0   Moderate infrastructure, primarily in private ...  \n",
       "1   Limited infrastructure, available only in sele...  \n",
       "2   Limited infrastructure, available only in sele...  \n",
       "3   Moderate infrastructure, primarily in private ...  \n",
       "4   Limited infrastructure, available only in sele...  \n",
       "5   Limited infrastructure, available only in sele...  \n",
       "6   Minimal or no infrastructure, testing mostly u...  \n",
       "7   Moderate infrastructure, primarily in private ...  \n",
       "8   Strong infrastructure in major hospitals and c...  \n",
       "9   Strong infrastructure in major hospitals and c...  \n",
       "10  Moderate infrastructure, primarily in private ...  \n",
       "11  Moderate infrastructure, primarily in private ...  \n",
       "12  Strong infrastructure in major hospitals and c...  \n",
       "13  Strong infrastructure in major hospitals and c...  \n",
       "14  Advanced nationwide infrastructure, widespread...  \n",
       "15  Strong infrastructure in major hospitals and c...  \n",
       "16  Strong infrastructure in major hospitals and c...  \n",
       "17  Advanced nationwide infrastructure, widespread...  \n",
       "18  Strong infrastructure in major hospitals and c...  \n",
       "19  Strong infrastructure in major hospitals and c...  \n",
       "20  Moderate infrastructure, primarily in private ...  \n",
       "21  Limited infrastructure, available only in sele...  \n",
       "22  Moderate infrastructure, primarily in private ...  \n",
       "23  Moderate infrastructure, primarily in private ...  \n",
       "24  Moderate infrastructure, primarily in private ...  \n",
       "25  Limited infrastructure, available only in sele...  \n",
       "26  Advanced nationwide infrastructure, widespread...  \n",
       "27  Strong infrastructure in major hospitals and c...  \n",
       "28  Strong infrastructure in major hospitals and c...  \n",
       "29  Strong infrastructure in major hospitals and c...  \n",
       "30  Moderate infrastructure, primarily in private ...  \n",
       "31  Minimal or no infrastructure, testing mostly u...  \n",
       "32  Minimal or no infrastructure, testing mostly u...  \n",
       "33  Moderate infrastructure, primarily in private ...  "
      ]
     },
     "execution_count": 83,
     "metadata": {},
     "output_type": "execute_result"
    }
   ],
   "source": [
    "disc = {\n",
    "    5: \"Advanced nationwide infrastructure, widespread availability in public and private sectors, integration with clinical practice.\",\n",
    "    4: \"Strong infrastructure in major hospitals and cancer centers, some regional disparities.\", \n",
    "    3: \"Moderate infrastructure, primarily in private settings or research institutions.\",\n",
    "    2: \"Limited infrastructure, available only in select centers or for high-cost private testing.\",\n",
    "    1: \"Minimal or no infrastructure, testing mostly unavailable or sent abroad.\"\n",
    "}\n",
    "\n",
    "def discLoader(dict, num):\n",
    "    for key, value in dict.items():\n",
    "        if key == num:\n",
    "            return value\n",
    "\n",
    "\n",
    "df['discript'] = df['Specialized Centers'].apply(lambda x: discLoader(disc, x))\n",
    "df"
   ]
  },
  {
   "cell_type": "code",
   "execution_count": null,
   "id": "ade1fea5",
   "metadata": {},
   "outputs": [
    {
     "data": {
      "application/vnd.plotly.v1+json": {
       "config": {
        "plotlyServerURL": "https://plot.ly"
       },
       "data": [
        {
         "locationmode": "country names",
         "locations": [
          "South Africa",
          "Kenya",
          "Nigeria",
          "Egypt",
          "Morocco",
          "Algeria",
          "Ethiopia",
          "India",
          "Japan",
          "South Korea",
          "China",
          "Thailand",
          "Singapore",
          "United Kingdom",
          "Germany",
          "France",
          "Netherlands",
          "Sweden",
          "Italy",
          "Spain",
          "Poland",
          "Mexico",
          "Brazil",
          "Argentina",
          "Chile",
          "Colombia",
          "United States",
          "Canada",
          "Australia",
          "New Zealand",
          "Greece",
          "Rwanda",
          "Uganda",
          "Serbia"
         ],
         "showscale": false,
         "text": [
          "Moderate infrastructure, primarily in private settings or research institutions.",
          "Limited infrastructure, available only in select centers or for high-cost private testing.",
          "Limited infrastructure, available only in select centers or for high-cost private testing.",
          "Moderate infrastructure, primarily in private settings or research institutions.",
          "Limited infrastructure, available only in select centers or for high-cost private testing.",
          "Limited infrastructure, available only in select centers or for high-cost private testing.",
          "Minimal or no infrastructure, testing mostly unavailable or sent abroad.",
          "Moderate infrastructure, primarily in private settings or research institutions.",
          "Strong infrastructure in major hospitals and cancer centers, some regional disparities.",
          "Strong infrastructure in major hospitals and cancer centers, some regional disparities.",
          "Moderate infrastructure, primarily in private settings or research institutions.",
          "Moderate infrastructure, primarily in private settings or research institutions.",
          "Strong infrastructure in major hospitals and cancer centers, some regional disparities.",
          "Strong infrastructure in major hospitals and cancer centers, some regional disparities.",
          "Advanced nationwide infrastructure, widespread availability in public and private sectors, integration with clinical practice.",
          "Strong infrastructure in major hospitals and cancer centers, some regional disparities.",
          "Strong infrastructure in major hospitals and cancer centers, some regional disparities.",
          "Advanced nationwide infrastructure, widespread availability in public and private sectors, integration with clinical practice.",
          "Strong infrastructure in major hospitals and cancer centers, some regional disparities.",
          "Strong infrastructure in major hospitals and cancer centers, some regional disparities.",
          "Moderate infrastructure, primarily in private settings or research institutions.",
          "Limited infrastructure, available only in select centers or for high-cost private testing.",
          "Moderate infrastructure, primarily in private settings or research institutions.",
          "Moderate infrastructure, primarily in private settings or research institutions.",
          "Moderate infrastructure, primarily in private settings or research institutions.",
          "Limited infrastructure, available only in select centers or for high-cost private testing.",
          "Advanced nationwide infrastructure, widespread availability in public and private sectors, integration with clinical practice.",
          "Strong infrastructure in major hospitals and cancer centers, some regional disparities.",
          "Strong infrastructure in major hospitals and cancer centers, some regional disparities.",
          "Strong infrastructure in major hospitals and cancer centers, some regional disparities.",
          "Moderate infrastructure, primarily in private settings or research institutions.",
          "Minimal or no infrastructure, testing mostly unavailable or sent abroad.",
          "Minimal or no infrastructure, testing mostly unavailable or sent abroad.",
          "Moderate infrastructure, primarily in private settings or research institutions."
         ],
         "type": "choropleth",
         "z": [
          3,
          2,
          2,
          3,
          2,
          2,
          1,
          3,
          4,
          4,
          3,
          3,
          4,
          4,
          5,
          4,
          4,
          5,
          4,
          4,
          3,
          2,
          3,
          3,
          3,
          2,
          5,
          4,
          4,
          4,
          3,
          1,
          1,
          3
         ]
        }
       ],
       "layout": {
        "geo": {
         "scope": "world"
        },
        "template": {
         "data": {
          "bar": [
           {
            "error_x": {
             "color": "#2a3f5f"
            },
            "error_y": {
             "color": "#2a3f5f"
            },
            "marker": {
             "line": {
              "color": "#E5ECF6",
              "width": 0.5
             },
             "pattern": {
              "fillmode": "overlay",
              "size": 10,
              "solidity": 0.2
             }
            },
            "type": "bar"
           }
          ],
          "barpolar": [
           {
            "marker": {
             "line": {
              "color": "#E5ECF6",
              "width": 0.5
             },
             "pattern": {
              "fillmode": "overlay",
              "size": 10,
              "solidity": 0.2
             }
            },
            "type": "barpolar"
           }
          ],
          "carpet": [
           {
            "aaxis": {
             "endlinecolor": "#2a3f5f",
             "gridcolor": "white",
             "linecolor": "white",
             "minorgridcolor": "white",
             "startlinecolor": "#2a3f5f"
            },
            "baxis": {
             "endlinecolor": "#2a3f5f",
             "gridcolor": "white",
             "linecolor": "white",
             "minorgridcolor": "white",
             "startlinecolor": "#2a3f5f"
            },
            "type": "carpet"
           }
          ],
          "choropleth": [
           {
            "colorbar": {
             "outlinewidth": 0,
             "ticks": ""
            },
            "type": "choropleth"
           }
          ],
          "contour": [
           {
            "colorbar": {
             "outlinewidth": 0,
             "ticks": ""
            },
            "colorscale": [
             [
              0,
              "#0d0887"
             ],
             [
              0.1111111111111111,
              "#46039f"
             ],
             [
              0.2222222222222222,
              "#7201a8"
             ],
             [
              0.3333333333333333,
              "#9c179e"
             ],
             [
              0.4444444444444444,
              "#bd3786"
             ],
             [
              0.5555555555555556,
              "#d8576b"
             ],
             [
              0.6666666666666666,
              "#ed7953"
             ],
             [
              0.7777777777777778,
              "#fb9f3a"
             ],
             [
              0.8888888888888888,
              "#fdca26"
             ],
             [
              1,
              "#f0f921"
             ]
            ],
            "type": "contour"
           }
          ],
          "contourcarpet": [
           {
            "colorbar": {
             "outlinewidth": 0,
             "ticks": ""
            },
            "type": "contourcarpet"
           }
          ],
          "heatmap": [
           {
            "colorbar": {
             "outlinewidth": 0,
             "ticks": ""
            },
            "colorscale": [
             [
              0,
              "#0d0887"
             ],
             [
              0.1111111111111111,
              "#46039f"
             ],
             [
              0.2222222222222222,
              "#7201a8"
             ],
             [
              0.3333333333333333,
              "#9c179e"
             ],
             [
              0.4444444444444444,
              "#bd3786"
             ],
             [
              0.5555555555555556,
              "#d8576b"
             ],
             [
              0.6666666666666666,
              "#ed7953"
             ],
             [
              0.7777777777777778,
              "#fb9f3a"
             ],
             [
              0.8888888888888888,
              "#fdca26"
             ],
             [
              1,
              "#f0f921"
             ]
            ],
            "type": "heatmap"
           }
          ],
          "histogram": [
           {
            "marker": {
             "pattern": {
              "fillmode": "overlay",
              "size": 10,
              "solidity": 0.2
             }
            },
            "type": "histogram"
           }
          ],
          "histogram2d": [
           {
            "colorbar": {
             "outlinewidth": 0,
             "ticks": ""
            },
            "colorscale": [
             [
              0,
              "#0d0887"
             ],
             [
              0.1111111111111111,
              "#46039f"
             ],
             [
              0.2222222222222222,
              "#7201a8"
             ],
             [
              0.3333333333333333,
              "#9c179e"
             ],
             [
              0.4444444444444444,
              "#bd3786"
             ],
             [
              0.5555555555555556,
              "#d8576b"
             ],
             [
              0.6666666666666666,
              "#ed7953"
             ],
             [
              0.7777777777777778,
              "#fb9f3a"
             ],
             [
              0.8888888888888888,
              "#fdca26"
             ],
             [
              1,
              "#f0f921"
             ]
            ],
            "type": "histogram2d"
           }
          ],
          "histogram2dcontour": [
           {
            "colorbar": {
             "outlinewidth": 0,
             "ticks": ""
            },
            "colorscale": [
             [
              0,
              "#0d0887"
             ],
             [
              0.1111111111111111,
              "#46039f"
             ],
             [
              0.2222222222222222,
              "#7201a8"
             ],
             [
              0.3333333333333333,
              "#9c179e"
             ],
             [
              0.4444444444444444,
              "#bd3786"
             ],
             [
              0.5555555555555556,
              "#d8576b"
             ],
             [
              0.6666666666666666,
              "#ed7953"
             ],
             [
              0.7777777777777778,
              "#fb9f3a"
             ],
             [
              0.8888888888888888,
              "#fdca26"
             ],
             [
              1,
              "#f0f921"
             ]
            ],
            "type": "histogram2dcontour"
           }
          ],
          "mesh3d": [
           {
            "colorbar": {
             "outlinewidth": 0,
             "ticks": ""
            },
            "type": "mesh3d"
           }
          ],
          "parcoords": [
           {
            "line": {
             "colorbar": {
              "outlinewidth": 0,
              "ticks": ""
             }
            },
            "type": "parcoords"
           }
          ],
          "pie": [
           {
            "automargin": true,
            "type": "pie"
           }
          ],
          "scatter": [
           {
            "fillpattern": {
             "fillmode": "overlay",
             "size": 10,
             "solidity": 0.2
            },
            "type": "scatter"
           }
          ],
          "scatter3d": [
           {
            "line": {
             "colorbar": {
              "outlinewidth": 0,
              "ticks": ""
             }
            },
            "marker": {
             "colorbar": {
              "outlinewidth": 0,
              "ticks": ""
             }
            },
            "type": "scatter3d"
           }
          ],
          "scattercarpet": [
           {
            "marker": {
             "colorbar": {
              "outlinewidth": 0,
              "ticks": ""
             }
            },
            "type": "scattercarpet"
           }
          ],
          "scattergeo": [
           {
            "marker": {
             "colorbar": {
              "outlinewidth": 0,
              "ticks": ""
             }
            },
            "type": "scattergeo"
           }
          ],
          "scattergl": [
           {
            "marker": {
             "colorbar": {
              "outlinewidth": 0,
              "ticks": ""
             }
            },
            "type": "scattergl"
           }
          ],
          "scattermap": [
           {
            "marker": {
             "colorbar": {
              "outlinewidth": 0,
              "ticks": ""
             }
            },
            "type": "scattermap"
           }
          ],
          "scattermapbox": [
           {
            "marker": {
             "colorbar": {
              "outlinewidth": 0,
              "ticks": ""
             }
            },
            "type": "scattermapbox"
           }
          ],
          "scatterpolar": [
           {
            "marker": {
             "colorbar": {
              "outlinewidth": 0,
              "ticks": ""
             }
            },
            "type": "scatterpolar"
           }
          ],
          "scatterpolargl": [
           {
            "marker": {
             "colorbar": {
              "outlinewidth": 0,
              "ticks": ""
             }
            },
            "type": "scatterpolargl"
           }
          ],
          "scatterternary": [
           {
            "marker": {
             "colorbar": {
              "outlinewidth": 0,
              "ticks": ""
             }
            },
            "type": "scatterternary"
           }
          ],
          "surface": [
           {
            "colorbar": {
             "outlinewidth": 0,
             "ticks": ""
            },
            "colorscale": [
             [
              0,
              "#0d0887"
             ],
             [
              0.1111111111111111,
              "#46039f"
             ],
             [
              0.2222222222222222,
              "#7201a8"
             ],
             [
              0.3333333333333333,
              "#9c179e"
             ],
             [
              0.4444444444444444,
              "#bd3786"
             ],
             [
              0.5555555555555556,
              "#d8576b"
             ],
             [
              0.6666666666666666,
              "#ed7953"
             ],
             [
              0.7777777777777778,
              "#fb9f3a"
             ],
             [
              0.8888888888888888,
              "#fdca26"
             ],
             [
              1,
              "#f0f921"
             ]
            ],
            "type": "surface"
           }
          ],
          "table": [
           {
            "cells": {
             "fill": {
              "color": "#EBF0F8"
             },
             "line": {
              "color": "white"
             }
            },
            "header": {
             "fill": {
              "color": "#C8D4E3"
             },
             "line": {
              "color": "white"
             }
            },
            "type": "table"
           }
          ]
         },
         "layout": {
          "annotationdefaults": {
           "arrowcolor": "#2a3f5f",
           "arrowhead": 0,
           "arrowwidth": 1
          },
          "autotypenumbers": "strict",
          "coloraxis": {
           "colorbar": {
            "outlinewidth": 0,
            "ticks": ""
           }
          },
          "colorscale": {
           "diverging": [
            [
             0,
             "#8e0152"
            ],
            [
             0.1,
             "#c51b7d"
            ],
            [
             0.2,
             "#de77ae"
            ],
            [
             0.3,
             "#f1b6da"
            ],
            [
             0.4,
             "#fde0ef"
            ],
            [
             0.5,
             "#f7f7f7"
            ],
            [
             0.6,
             "#e6f5d0"
            ],
            [
             0.7,
             "#b8e186"
            ],
            [
             0.8,
             "#7fbc41"
            ],
            [
             0.9,
             "#4d9221"
            ],
            [
             1,
             "#276419"
            ]
           ],
           "sequential": [
            [
             0,
             "#0d0887"
            ],
            [
             0.1111111111111111,
             "#46039f"
            ],
            [
             0.2222222222222222,
             "#7201a8"
            ],
            [
             0.3333333333333333,
             "#9c179e"
            ],
            [
             0.4444444444444444,
             "#bd3786"
            ],
            [
             0.5555555555555556,
             "#d8576b"
            ],
            [
             0.6666666666666666,
             "#ed7953"
            ],
            [
             0.7777777777777778,
             "#fb9f3a"
            ],
            [
             0.8888888888888888,
             "#fdca26"
            ],
            [
             1,
             "#f0f921"
            ]
           ],
           "sequentialminus": [
            [
             0,
             "#0d0887"
            ],
            [
             0.1111111111111111,
             "#46039f"
            ],
            [
             0.2222222222222222,
             "#7201a8"
            ],
            [
             0.3333333333333333,
             "#9c179e"
            ],
            [
             0.4444444444444444,
             "#bd3786"
            ],
            [
             0.5555555555555556,
             "#d8576b"
            ],
            [
             0.6666666666666666,
             "#ed7953"
            ],
            [
             0.7777777777777778,
             "#fb9f3a"
            ],
            [
             0.8888888888888888,
             "#fdca26"
            ],
            [
             1,
             "#f0f921"
            ]
           ]
          },
          "colorway": [
           "#636efa",
           "#EF553B",
           "#00cc96",
           "#ab63fa",
           "#FFA15A",
           "#19d3f3",
           "#FF6692",
           "#B6E880",
           "#FF97FF",
           "#FECB52"
          ],
          "font": {
           "color": "#2a3f5f"
          },
          "geo": {
           "bgcolor": "white",
           "lakecolor": "white",
           "landcolor": "#E5ECF6",
           "showlakes": true,
           "showland": true,
           "subunitcolor": "white"
          },
          "hoverlabel": {
           "align": "left"
          },
          "hovermode": "closest",
          "mapbox": {
           "style": "light"
          },
          "paper_bgcolor": "white",
          "plot_bgcolor": "#E5ECF6",
          "polar": {
           "angularaxis": {
            "gridcolor": "white",
            "linecolor": "white",
            "ticks": ""
           },
           "bgcolor": "#E5ECF6",
           "radialaxis": {
            "gridcolor": "white",
            "linecolor": "white",
            "ticks": ""
           }
          },
          "scene": {
           "xaxis": {
            "backgroundcolor": "#E5ECF6",
            "gridcolor": "white",
            "gridwidth": 2,
            "linecolor": "white",
            "showbackground": true,
            "ticks": "",
            "zerolinecolor": "white"
           },
           "yaxis": {
            "backgroundcolor": "#E5ECF6",
            "gridcolor": "white",
            "gridwidth": 2,
            "linecolor": "white",
            "showbackground": true,
            "ticks": "",
            "zerolinecolor": "white"
           },
           "zaxis": {
            "backgroundcolor": "#E5ECF6",
            "gridcolor": "white",
            "gridwidth": 2,
            "linecolor": "white",
            "showbackground": true,
            "ticks": "",
            "zerolinecolor": "white"
           }
          },
          "shapedefaults": {
           "line": {
            "color": "#2a3f5f"
           }
          },
          "ternary": {
           "aaxis": {
            "gridcolor": "white",
            "linecolor": "white",
            "ticks": ""
           },
           "baxis": {
            "gridcolor": "white",
            "linecolor": "white",
            "ticks": ""
           },
           "bgcolor": "#E5ECF6",
           "caxis": {
            "gridcolor": "white",
            "linecolor": "white",
            "ticks": ""
           }
          },
          "title": {
           "x": 0.05
          },
          "xaxis": {
           "automargin": true,
           "gridcolor": "white",
           "linecolor": "white",
           "ticks": "",
           "title": {
            "standoff": 15
           },
           "zerolinecolor": "white",
           "zerolinewidth": 2
          },
          "yaxis": {
           "automargin": true,
           "gridcolor": "white",
           "linecolor": "white",
           "ticks": "",
           "title": {
            "standoff": 15
           },
           "zerolinecolor": "white",
           "zerolinewidth": 2
          }
         }
        },
        "title": {
         "text": "Specialized Centers across the world",
         "x": 0.5
        }
       }
      },
      "text/html": [
       "<div>            <script src=\"https://cdnjs.cloudflare.com/ajax/libs/mathjax/2.7.5/MathJax.js?config=TeX-AMS-MML_SVG\"></script><script type=\"text/javascript\">if (window.MathJax && window.MathJax.Hub && window.MathJax.Hub.Config) {window.MathJax.Hub.Config({SVG: {font: \"STIX-Web\"}});}</script>                <script type=\"text/javascript\">window.PlotlyConfig = {MathJaxConfig: 'local'};</script>\n",
       "        <script charset=\"utf-8\" src=\"https://cdn.plot.ly/plotly-3.0.1.min.js\"></script>                <div id=\"0cd109c4-ebf6-4531-a343-8e32d9aadcde\" class=\"plotly-graph-div\" style=\"height:525px; width:100%;\"></div>            <script type=\"text/javascript\">                window.PLOTLYENV=window.PLOTLYENV || {};                                if (document.getElementById(\"0cd109c4-ebf6-4531-a343-8e32d9aadcde\")) {                    Plotly.newPlot(                        \"0cd109c4-ebf6-4531-a343-8e32d9aadcde\",                        [{\"locationmode\":\"country names\",\"locations\":[\"South Africa\",\"Kenya\",\"Nigeria\",\"Egypt\",\"Morocco\",\"Algeria\",\"Ethiopia\",\"India\",\"Japan\",\"South Korea\",\"China\",\"Thailand\",\"Singapore\",\"United Kingdom\",\"Germany\",\"France\",\"Netherlands\",\"Sweden\",\"Italy\",\"Spain\",\"Poland\",\"Mexico\",\"Brazil\",\"Argentina\",\"Chile\",\"Colombia\",\"United States\",\"Canada\",\"Australia\",\"New Zealand\",\"Greece\",\"Rwanda\",\"Uganda\",\"Serbia\"],\"showscale\":false,\"text\":[\"Moderate infrastructure, primarily in private settings or research institutions.\",\"Limited infrastructure, available only in select centers or for high-cost private testing.\",\"Limited infrastructure, available only in select centers or for high-cost private testing.\",\"Moderate infrastructure, primarily in private settings or research institutions.\",\"Limited infrastructure, available only in select centers or for high-cost private testing.\",\"Limited infrastructure, available only in select centers or for high-cost private testing.\",\"Minimal or no infrastructure, testing mostly unavailable or sent abroad.\",\"Moderate infrastructure, primarily in private settings or research institutions.\",\"Strong infrastructure in major hospitals and cancer centers, some regional disparities.\",\"Strong infrastructure in major hospitals and cancer centers, some regional disparities.\",\"Moderate infrastructure, primarily in private settings or research institutions.\",\"Moderate infrastructure, primarily in private settings or research institutions.\",\"Strong infrastructure in major hospitals and cancer centers, some regional disparities.\",\"Strong infrastructure in major hospitals and cancer centers, some regional disparities.\",\"Advanced nationwide infrastructure, widespread availability in public and private sectors, integration with clinical practice.\",\"Strong infrastructure in major hospitals and cancer centers, some regional disparities.\",\"Strong infrastructure in major hospitals and cancer centers, some regional disparities.\",\"Advanced nationwide infrastructure, widespread availability in public and private sectors, integration with clinical practice.\",\"Strong infrastructure in major hospitals and cancer centers, some regional disparities.\",\"Strong infrastructure in major hospitals and cancer centers, some regional disparities.\",\"Moderate infrastructure, primarily in private settings or research institutions.\",\"Limited infrastructure, available only in select centers or for high-cost private testing.\",\"Moderate infrastructure, primarily in private settings or research institutions.\",\"Moderate infrastructure, primarily in private settings or research institutions.\",\"Moderate infrastructure, primarily in private settings or research institutions.\",\"Limited infrastructure, available only in select centers or for high-cost private testing.\",\"Advanced nationwide infrastructure, widespread availability in public and private sectors, integration with clinical practice.\",\"Strong infrastructure in major hospitals and cancer centers, some regional disparities.\",\"Strong infrastructure in major hospitals and cancer centers, some regional disparities.\",\"Strong infrastructure in major hospitals and cancer centers, some regional disparities.\",\"Moderate infrastructure, primarily in private settings or research institutions.\",\"Minimal or no infrastructure, testing mostly unavailable or sent abroad.\",\"Minimal or no infrastructure, testing mostly unavailable or sent abroad.\",\"Moderate infrastructure, primarily in private settings or research institutions.\"],\"z\":[3.0,2.0,2.0,3.0,2.0,2.0,1.0,3.0,4.0,4.0,3.0,3.0,4.0,4.0,5.0,4.0,4.0,5.0,4.0,4.0,3.0,2.0,3.0,3.0,3.0,2.0,5.0,4.0,4.0,4.0,3.0,1.0,1.0,3.0],\"type\":\"choropleth\"}],                        {\"geo\":{\"scope\":\"world\"},\"template\":{\"data\":{\"histogram2dcontour\":[{\"type\":\"histogram2dcontour\",\"colorbar\":{\"outlinewidth\":0,\"ticks\":\"\"},\"colorscale\":[[0.0,\"#0d0887\"],[0.1111111111111111,\"#46039f\"],[0.2222222222222222,\"#7201a8\"],[0.3333333333333333,\"#9c179e\"],[0.4444444444444444,\"#bd3786\"],[0.5555555555555556,\"#d8576b\"],[0.6666666666666666,\"#ed7953\"],[0.7777777777777778,\"#fb9f3a\"],[0.8888888888888888,\"#fdca26\"],[1.0,\"#f0f921\"]]}],\"choropleth\":[{\"type\":\"choropleth\",\"colorbar\":{\"outlinewidth\":0,\"ticks\":\"\"}}],\"histogram2d\":[{\"type\":\"histogram2d\",\"colorbar\":{\"outlinewidth\":0,\"ticks\":\"\"},\"colorscale\":[[0.0,\"#0d0887\"],[0.1111111111111111,\"#46039f\"],[0.2222222222222222,\"#7201a8\"],[0.3333333333333333,\"#9c179e\"],[0.4444444444444444,\"#bd3786\"],[0.5555555555555556,\"#d8576b\"],[0.6666666666666666,\"#ed7953\"],[0.7777777777777778,\"#fb9f3a\"],[0.8888888888888888,\"#fdca26\"],[1.0,\"#f0f921\"]]}],\"heatmap\":[{\"type\":\"heatmap\",\"colorbar\":{\"outlinewidth\":0,\"ticks\":\"\"},\"colorscale\":[[0.0,\"#0d0887\"],[0.1111111111111111,\"#46039f\"],[0.2222222222222222,\"#7201a8\"],[0.3333333333333333,\"#9c179e\"],[0.4444444444444444,\"#bd3786\"],[0.5555555555555556,\"#d8576b\"],[0.6666666666666666,\"#ed7953\"],[0.7777777777777778,\"#fb9f3a\"],[0.8888888888888888,\"#fdca26\"],[1.0,\"#f0f921\"]]}],\"contourcarpet\":[{\"type\":\"contourcarpet\",\"colorbar\":{\"outlinewidth\":0,\"ticks\":\"\"}}],\"contour\":[{\"type\":\"contour\",\"colorbar\":{\"outlinewidth\":0,\"ticks\":\"\"},\"colorscale\":[[0.0,\"#0d0887\"],[0.1111111111111111,\"#46039f\"],[0.2222222222222222,\"#7201a8\"],[0.3333333333333333,\"#9c179e\"],[0.4444444444444444,\"#bd3786\"],[0.5555555555555556,\"#d8576b\"],[0.6666666666666666,\"#ed7953\"],[0.7777777777777778,\"#fb9f3a\"],[0.8888888888888888,\"#fdca26\"],[1.0,\"#f0f921\"]]}],\"surface\":[{\"type\":\"surface\",\"colorbar\":{\"outlinewidth\":0,\"ticks\":\"\"},\"colorscale\":[[0.0,\"#0d0887\"],[0.1111111111111111,\"#46039f\"],[0.2222222222222222,\"#7201a8\"],[0.3333333333333333,\"#9c179e\"],[0.4444444444444444,\"#bd3786\"],[0.5555555555555556,\"#d8576b\"],[0.6666666666666666,\"#ed7953\"],[0.7777777777777778,\"#fb9f3a\"],[0.8888888888888888,\"#fdca26\"],[1.0,\"#f0f921\"]]}],\"mesh3d\":[{\"type\":\"mesh3d\",\"colorbar\":{\"outlinewidth\":0,\"ticks\":\"\"}}],\"scatter\":[{\"fillpattern\":{\"fillmode\":\"overlay\",\"size\":10,\"solidity\":0.2},\"type\":\"scatter\"}],\"parcoords\":[{\"type\":\"parcoords\",\"line\":{\"colorbar\":{\"outlinewidth\":0,\"ticks\":\"\"}}}],\"scatterpolargl\":[{\"type\":\"scatterpolargl\",\"marker\":{\"colorbar\":{\"outlinewidth\":0,\"ticks\":\"\"}}}],\"bar\":[{\"error_x\":{\"color\":\"#2a3f5f\"},\"error_y\":{\"color\":\"#2a3f5f\"},\"marker\":{\"line\":{\"color\":\"#E5ECF6\",\"width\":0.5},\"pattern\":{\"fillmode\":\"overlay\",\"size\":10,\"solidity\":0.2}},\"type\":\"bar\"}],\"scattergeo\":[{\"type\":\"scattergeo\",\"marker\":{\"colorbar\":{\"outlinewidth\":0,\"ticks\":\"\"}}}],\"scatterpolar\":[{\"type\":\"scatterpolar\",\"marker\":{\"colorbar\":{\"outlinewidth\":0,\"ticks\":\"\"}}}],\"histogram\":[{\"marker\":{\"pattern\":{\"fillmode\":\"overlay\",\"size\":10,\"solidity\":0.2}},\"type\":\"histogram\"}],\"scattergl\":[{\"type\":\"scattergl\",\"marker\":{\"colorbar\":{\"outlinewidth\":0,\"ticks\":\"\"}}}],\"scatter3d\":[{\"type\":\"scatter3d\",\"line\":{\"colorbar\":{\"outlinewidth\":0,\"ticks\":\"\"}},\"marker\":{\"colorbar\":{\"outlinewidth\":0,\"ticks\":\"\"}}}],\"scattermap\":[{\"type\":\"scattermap\",\"marker\":{\"colorbar\":{\"outlinewidth\":0,\"ticks\":\"\"}}}],\"scattermapbox\":[{\"type\":\"scattermapbox\",\"marker\":{\"colorbar\":{\"outlinewidth\":0,\"ticks\":\"\"}}}],\"scatterternary\":[{\"type\":\"scatterternary\",\"marker\":{\"colorbar\":{\"outlinewidth\":0,\"ticks\":\"\"}}}],\"scattercarpet\":[{\"type\":\"scattercarpet\",\"marker\":{\"colorbar\":{\"outlinewidth\":0,\"ticks\":\"\"}}}],\"carpet\":[{\"aaxis\":{\"endlinecolor\":\"#2a3f5f\",\"gridcolor\":\"white\",\"linecolor\":\"white\",\"minorgridcolor\":\"white\",\"startlinecolor\":\"#2a3f5f\"},\"baxis\":{\"endlinecolor\":\"#2a3f5f\",\"gridcolor\":\"white\",\"linecolor\":\"white\",\"minorgridcolor\":\"white\",\"startlinecolor\":\"#2a3f5f\"},\"type\":\"carpet\"}],\"table\":[{\"cells\":{\"fill\":{\"color\":\"#EBF0F8\"},\"line\":{\"color\":\"white\"}},\"header\":{\"fill\":{\"color\":\"#C8D4E3\"},\"line\":{\"color\":\"white\"}},\"type\":\"table\"}],\"barpolar\":[{\"marker\":{\"line\":{\"color\":\"#E5ECF6\",\"width\":0.5},\"pattern\":{\"fillmode\":\"overlay\",\"size\":10,\"solidity\":0.2}},\"type\":\"barpolar\"}],\"pie\":[{\"automargin\":true,\"type\":\"pie\"}]},\"layout\":{\"autotypenumbers\":\"strict\",\"colorway\":[\"#636efa\",\"#EF553B\",\"#00cc96\",\"#ab63fa\",\"#FFA15A\",\"#19d3f3\",\"#FF6692\",\"#B6E880\",\"#FF97FF\",\"#FECB52\"],\"font\":{\"color\":\"#2a3f5f\"},\"hovermode\":\"closest\",\"hoverlabel\":{\"align\":\"left\"},\"paper_bgcolor\":\"white\",\"plot_bgcolor\":\"#E5ECF6\",\"polar\":{\"bgcolor\":\"#E5ECF6\",\"angularaxis\":{\"gridcolor\":\"white\",\"linecolor\":\"white\",\"ticks\":\"\"},\"radialaxis\":{\"gridcolor\":\"white\",\"linecolor\":\"white\",\"ticks\":\"\"}},\"ternary\":{\"bgcolor\":\"#E5ECF6\",\"aaxis\":{\"gridcolor\":\"white\",\"linecolor\":\"white\",\"ticks\":\"\"},\"baxis\":{\"gridcolor\":\"white\",\"linecolor\":\"white\",\"ticks\":\"\"},\"caxis\":{\"gridcolor\":\"white\",\"linecolor\":\"white\",\"ticks\":\"\"}},\"coloraxis\":{\"colorbar\":{\"outlinewidth\":0,\"ticks\":\"\"}},\"colorscale\":{\"sequential\":[[0.0,\"#0d0887\"],[0.1111111111111111,\"#46039f\"],[0.2222222222222222,\"#7201a8\"],[0.3333333333333333,\"#9c179e\"],[0.4444444444444444,\"#bd3786\"],[0.5555555555555556,\"#d8576b\"],[0.6666666666666666,\"#ed7953\"],[0.7777777777777778,\"#fb9f3a\"],[0.8888888888888888,\"#fdca26\"],[1.0,\"#f0f921\"]],\"sequentialminus\":[[0.0,\"#0d0887\"],[0.1111111111111111,\"#46039f\"],[0.2222222222222222,\"#7201a8\"],[0.3333333333333333,\"#9c179e\"],[0.4444444444444444,\"#bd3786\"],[0.5555555555555556,\"#d8576b\"],[0.6666666666666666,\"#ed7953\"],[0.7777777777777778,\"#fb9f3a\"],[0.8888888888888888,\"#fdca26\"],[1.0,\"#f0f921\"]],\"diverging\":[[0,\"#8e0152\"],[0.1,\"#c51b7d\"],[0.2,\"#de77ae\"],[0.3,\"#f1b6da\"],[0.4,\"#fde0ef\"],[0.5,\"#f7f7f7\"],[0.6,\"#e6f5d0\"],[0.7,\"#b8e186\"],[0.8,\"#7fbc41\"],[0.9,\"#4d9221\"],[1,\"#276419\"]]},\"xaxis\":{\"gridcolor\":\"white\",\"linecolor\":\"white\",\"ticks\":\"\",\"title\":{\"standoff\":15},\"zerolinecolor\":\"white\",\"automargin\":true,\"zerolinewidth\":2},\"yaxis\":{\"gridcolor\":\"white\",\"linecolor\":\"white\",\"ticks\":\"\",\"title\":{\"standoff\":15},\"zerolinecolor\":\"white\",\"automargin\":true,\"zerolinewidth\":2},\"scene\":{\"xaxis\":{\"backgroundcolor\":\"#E5ECF6\",\"gridcolor\":\"white\",\"linecolor\":\"white\",\"showbackground\":true,\"ticks\":\"\",\"zerolinecolor\":\"white\",\"gridwidth\":2},\"yaxis\":{\"backgroundcolor\":\"#E5ECF6\",\"gridcolor\":\"white\",\"linecolor\":\"white\",\"showbackground\":true,\"ticks\":\"\",\"zerolinecolor\":\"white\",\"gridwidth\":2},\"zaxis\":{\"backgroundcolor\":\"#E5ECF6\",\"gridcolor\":\"white\",\"linecolor\":\"white\",\"showbackground\":true,\"ticks\":\"\",\"zerolinecolor\":\"white\",\"gridwidth\":2}},\"shapedefaults\":{\"line\":{\"color\":\"#2a3f5f\"}},\"annotationdefaults\":{\"arrowcolor\":\"#2a3f5f\",\"arrowhead\":0,\"arrowwidth\":1},\"geo\":{\"bgcolor\":\"white\",\"landcolor\":\"#E5ECF6\",\"subunitcolor\":\"white\",\"showland\":true,\"showlakes\":true,\"lakecolor\":\"white\"},\"title\":{\"x\":0.05},\"mapbox\":{\"style\":\"light\"}}},\"title\":{\"text\":\"Specialized Centers across the world\",\"x\":0.5}},                        {\"responsive\": true}                    ).then(function(){\n",
       "                            \n",
       "var gd = document.getElementById('0cd109c4-ebf6-4531-a343-8e32d9aadcde');\n",
       "var x = new MutationObserver(function (mutations, observer) {{\n",
       "        var display = window.getComputedStyle(gd).display;\n",
       "        if (!display || display === 'none') {{\n",
       "            console.log([gd, 'removed!']);\n",
       "            Plotly.purge(gd);\n",
       "            observer.disconnect();\n",
       "        }}\n",
       "}});\n",
       "\n",
       "// Listen for the removal of the full notebook cells\n",
       "var notebookContainer = gd.closest('#notebook-container');\n",
       "if (notebookContainer) {{\n",
       "    x.observe(notebookContainer, {childList: true});\n",
       "}}\n",
       "\n",
       "// Listen for the clearing of the current output cell\n",
       "var outputEl = gd.closest('.output');\n",
       "if (outputEl) {{\n",
       "    x.observe(outputEl, {childList: true});\n",
       "}}\n",
       "\n",
       "                        })                };            </script>        </div>"
      ]
     },
     "metadata": {},
     "output_type": "display_data"
    }
   ],
   "source": [
    "# To establish connection \n",
    "# init_notebook_mode(connected = True) \n",
    "\n",
    "\n",
    "# type defined is choropleth to \n",
    "# plot geographical plots \n",
    "data = dict(type = 'choropleth', \n",
    "  \n",
    "            # location: country col\n",
    "            locations = country, \n",
    "              \n",
    "            # over country names if country code; 'ISO-3' can be used\n",
    "            locationmode = 'country names', \n",
    "              \n",
    "            # colorscale can be added as per requirement \n",
    "            # colorscale = 'Viridis', \n",
    "              \n",
    "            # text can be used as popup datapoints\n",
    "            text = df['discript'], \n",
    "            z = spcCenter, # data point\n",
    "            \n",
    "            # colour bar if needed\n",
    "            # colorbar = {'title': 'Specialized Centers'}\n",
    "            showscale = False\n",
    "            ) \n",
    "              \n",
    "layout = dict(geo ={'scope': 'world'}) \n",
    "  \n",
    "# passing data dictionary as a list \n",
    "choromap = go.Figure(data = [data], layout = layout) \n",
    "\n",
    "choromap.update_layout(title_text=title, title_x=.5)\n",
    "# plotting graph\n",
    "choromap"
   ]
  },
  {
   "cell_type": "code",
   "execution_count": null,
   "id": "89f68b1d",
   "metadata": {},
   "outputs": [],
   "source": []
  },
  {
   "cell_type": "code",
   "execution_count": null,
   "id": "ce3b2cff",
   "metadata": {},
   "outputs": [],
   "source": []
  }
 ],
 "metadata": {
  "kernelspec": {
   "display_name": "visenv",
   "language": "python",
   "name": "python3"
  },
  "language_info": {
   "codemirror_mode": {
    "name": "ipython",
    "version": 3
   },
   "file_extension": ".py",
   "mimetype": "text/x-python",
   "name": "python",
   "nbconvert_exporter": "python",
   "pygments_lexer": "ipython3",
   "version": "3.10.4"
  }
 },
 "nbformat": 4,
 "nbformat_minor": 5
}
